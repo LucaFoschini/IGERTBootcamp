{
 "metadata": {
  "name": "",
  "signature": "sha256:3d38a2151c316250cf43eed8b80040bfc0c0bfd97247185b35de07e70078f31d"
 },
 "nbformat": 3,
 "nbformat_minor": 0,
 "worksheets": [
  {
   "cells": [
    {
     "cell_type": "markdown",
     "metadata": {},
     "source": [
      "## Data Wrangling with Python and Pandas (tutorial)\n",
      "\n",
      "Pandas Tutorial:\n",
      "\n",
      "http://pandas.pydata.org/pandas-docs/stable/10min.html\n",
      "\n",
      "[Run through it]"
     ]
    },
    {
     "cell_type": "code",
     "collapsed": false,
     "input": [],
     "language": "python",
     "metadata": {},
     "outputs": []
    },
    {
     "cell_type": "markdown",
     "metadata": {},
     "source": [
      "A More involved example:\n",
      "\n",
      "http://nbviewer.ipython.org/github/herrfz/dataanalysis/blob/master/week4/clustering_example.ipynb\n",
      "\n",
      "(replace \"%load_ext rmagic\" with \"%load_ext rpy2.ipython\")\n",
      "\n",
      "An 11-lesson tutorial:\n",
      "\n",
      "https://bitbucket.org/hrojas/learn-pandas"
     ]
    }
   ],
   "metadata": {}
  }
 ]
}