{
 "metadata": {
  "name": "",
  "signature": "sha256:7e01144d6bf38343f1b244b0062402dc5d7f85a03b31d1926cfb4b45f44d64e2"
 },
 "nbformat": 3,
 "nbformat_minor": 0,
 "worksheets": [
  {
   "cells": [
    {
     "cell_type": "markdown",
     "metadata": {},
     "source": [
      "## Data Wrangling with Python and Pandas (tutorial)"
     ]
    },
    {
     "cell_type": "markdown",
     "metadata": {},
     "source": [
      "## Pandas <-> R Integration"
     ]
    },
    {
     "cell_type": "markdown",
     "metadata": {},
     "source": [
      "## Visualize your Data"
     ]
    },
    {
     "cell_type": "markdown",
     "metadata": {},
     "source": [
      "## Interact"
     ]
    },
    {
     "cell_type": "markdown",
     "metadata": {},
     "source": [
      "## Format hd5 "
     ]
    },
    {
     "cell_type": "code",
     "collapsed": false,
     "input": [],
     "language": "python",
     "metadata": {},
     "outputs": []
    }
   ],
   "metadata": {}
  }
 ]
}