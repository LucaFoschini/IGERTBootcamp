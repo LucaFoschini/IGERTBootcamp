{
 "metadata": {
  "name": "",
  "signature": "sha256:fb6913f8f4edd3674c10ea9bfd1e825169434bf06270f94792be078ebf21aef1"
 },
 "nbformat": 3,
 "nbformat_minor": 0,
 "worksheets": [
  {
   "cells": [
    {
     "cell_type": "markdown",
     "metadata": {},
     "source": [
      "## Git Tutorial (Software Carpentry)"
     ]
    },
    {
     "cell_type": "markdown",
     "metadata": {},
     "source": [
      "## Try.git.io"
     ]
    },
    {
     "cell_type": "code",
     "collapsed": false,
     "input": [],
     "language": "python",
     "metadata": {},
     "outputs": []
    }
   ],
   "metadata": {}
  }
 ]
}