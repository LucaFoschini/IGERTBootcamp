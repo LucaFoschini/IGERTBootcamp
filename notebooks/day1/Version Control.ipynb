{
 "metadata": {
  "name": "",
  "signature": "sha256:fffa05894785a6323154a75f3fdc5f790737da215fd33fe6c3688e3410b45f01"
 },
 "nbformat": 3,
 "nbformat_minor": 0,
 "worksheets": [
  {
   "cells": [
    {
     "cell_type": "markdown",
     "metadata": {},
     "source": [
      "# Why Version Control?\n",
      "\n",
      "Here's why."
     ]
    },
    {
     "cell_type": "code",
     "collapsed": false,
     "input": [
      "from IPython.display import Image\n",
      "Image(url='http://www.phdcomics.com/comics/archive/phd101212s.gif')"
     ],
     "language": "python",
     "metadata": {},
     "outputs": [
      {
       "html": [
        "<img src=\"http://www.phdcomics.com/comics/archive/phd101212s.gif\"/>"
       ],
       "metadata": {},
       "output_type": "pyout",
       "prompt_number": 3,
       "text": [
        "<IPython.core.display.Image at 0x1023877d0>"
       ]
      }
     ],
     "prompt_number": 3
    },
    {
     "cell_type": "markdown",
     "metadata": {},
     "source": [
      "## Git for Scientists: A Tutorial (by John McDonnell)\n",
      "\n",
      "http://nyuccl.org/pages/GitTutorial/\n",
      "\n",
      "Go through the tutorial. You can either do it from the terminal in the command line, or using the %%bash magic:"
     ]
    },
    {
     "cell_type": "code",
     "collapsed": false,
     "input": [
      "%%bash\n",
      "git status"
     ],
     "language": "python",
     "metadata": {},
     "outputs": [
      {
       "output_type": "stream",
       "stream": "stdout",
       "text": [
        "# On branch master\n",
        "# Your branch is ahead of 'origin/master' by 4 commits.\n",
        "#\n",
        "# Changes not staged for commit:\n",
        "#   (use \"git add <file>...\" to update what will be committed)\n",
        "#   (use \"git checkout -- <file>...\" to discard changes in working directory)\n",
        "#\n",
        "#\tmodified:   ../Syllabus and Reading List.ipynb\n",
        "#\tmodified:   Version Control.ipynb\n",
        "#\n",
        "# Untracked files:\n",
        "#   (use \"git add <file>...\" to include in what will be committed)\n",
        "#\n",
        "#\t../.ipynb_checkpoints/\n",
        "#\t.ipynb_checkpoints/\n",
        "no changes added to commit (use \"git add\" and/or \"git commit -a\")\n"
       ]
      }
     ],
     "prompt_number": 1
    },
    {
     "cell_type": "markdown",
     "metadata": {},
     "source": [
      "## Other great, similar resources:\n",
      "\n",
      "- by Fernando Perez:\n",
      "  http://nbviewer.ipython.org/github/fperez/reprosw/blob/master/Version%20Control.ipynb\n",
      "  \n",
      "- by Software Carpentry:\n",
      "  http://software-carpentry.org/v5/novice/git/index.html\n"
     ]
    },
    {
     "cell_type": "markdown",
     "metadata": {},
     "source": [
      "## Finally a Quick Command reference:\n",
      "\n",
      "http://software-carpentry.org/v5/novice/ref/02-git.html"
     ]
    },
    {
     "cell_type": "code",
     "collapsed": false,
     "input": [],
     "language": "python",
     "metadata": {},
     "outputs": []
    }
   ],
   "metadata": {}
  }
 ]
}