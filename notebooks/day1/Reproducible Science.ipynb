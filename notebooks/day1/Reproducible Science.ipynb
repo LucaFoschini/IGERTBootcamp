{
 "metadata": {
  "name": "",
  "signature": "sha256:60469ad19e9be4cea7355bb17192ae1289e1d6c0b7a1fbbcdddf99df4e7fea77"
 },
 "nbformat": 3,
 "nbformat_minor": 0,
 "worksheets": [
  {
   "cells": [
    {
     "cell_type": "markdown",
     "metadata": {},
     "source": [
      "## Reproducible Science"
     ]
    },
    {
     "cell_type": "markdown",
     "metadata": {},
     "source": [
      "## IPython Notebooks Showcase"
     ]
    },
    {
     "cell_type": "markdown",
     "metadata": {},
     "source": [
      "## Integration with R"
     ]
    },
    {
     "cell_type": "code",
     "collapsed": false,
     "input": [],
     "language": "python",
     "metadata": {},
     "outputs": []
    }
   ],
   "metadata": {}
  }
 ]
}