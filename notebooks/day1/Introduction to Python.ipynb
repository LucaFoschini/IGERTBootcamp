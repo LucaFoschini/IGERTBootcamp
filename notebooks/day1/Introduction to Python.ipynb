{
 "metadata": {
  "name": "",
  "signature": "sha256:dc0ee493578e7110eab4f53deb993cc5fe61c22f02d39edd42a33c42438f9cc8"
 },
 "nbformat": 3,
 "nbformat_minor": 0,
 "worksheets": [
  {
   "cells": [
    {
     "cell_type": "markdown",
     "metadata": {},
     "source": [
      "## Introduction to Python (tutorial)"
     ]
    },
    {
     "cell_type": "code",
     "collapsed": false,
     "input": [],
     "language": "python",
     "metadata": {},
     "outputs": []
    }
   ],
   "metadata": {}
  }
 ]
}