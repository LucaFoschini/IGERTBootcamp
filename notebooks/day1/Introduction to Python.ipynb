{
 "metadata": {
  "name": "",
  "signature": "sha256:04727642cdf4ae76ddc491068e5c4f0a14595000480997187d6fae62f22cd1f8"
 },
 "nbformat": 3,
 "nbformat_minor": 0,
 "worksheets": [
  {
   "cells": [
    {
     "cell_type": "markdown",
     "metadata": {},
     "source": [
      "## Introduction to Python (tutorial)"
     ]
    },
    {
     "cell_type": "markdown",
     "metadata": {},
     "source": [
      "**A Crash Course in Python for Scientists**\n",
      "\n",
      "*Rick Muller, Sandia National Laboratories*\n",
      "\n",
      "http://nbviewer.ipython.org/gist/rpmuller/5920182\n",
      "\n",
      "[Run throught the tutorial]"
     ]
    },
    {
     "cell_type": "code",
     "collapsed": false,
     "input": [],
     "language": "python",
     "metadata": {},
     "outputs": []
    }
   ],
   "metadata": {}
  }
 ]
}