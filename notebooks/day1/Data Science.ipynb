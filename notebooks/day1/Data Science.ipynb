{
 "metadata": {
  "name": "",
  "signature": "sha256:698fd08ae6cd7120bd775174c217c8e7bc666b44f1ae84e55e291428e762efa9"
 },
 "nbformat": 3,
 "nbformat_minor": 0,
 "worksheets": [
  {
   "cells": [
    {
     "cell_type": "markdown",
     "metadata": {},
     "source": [
      "# Data Science (insert presentation)"
     ]
    },
    {
     "cell_type": "markdown",
     "metadata": {},
     "source": [
      "# Data Science from the command line (with tutorial)"
     ]
    },
    {
     "cell_type": "code",
     "collapsed": false,
     "input": [],
     "language": "python",
     "metadata": {},
     "outputs": []
    }
   ],
   "metadata": {}
  }
 ]
}