{
 "metadata": {
  "name": "",
  "signature": "sha256:42b9d35fc888782832f76afdc260d26939c24cea1dab38cc8f5689a2e823f09e"
 },
 "nbformat": 3,
 "nbformat_minor": 0,
 "worksheets": [
  {
   "cells": [
    {
     "cell_type": "markdown",
     "metadata": {},
     "source": [
      "# Data Science\n",
      "\n",
      "What's that?"
     ]
    },
    {
     "cell_type": "code",
     "collapsed": false,
     "input": [
      "from IPython.display import Image\n",
      "Image(url='http://static.squarespace.com/static/5150aec6e4b0e340ec52710a/t/51525c33e4b0b3e0d10f77ab/1364352052403/Data_Science_VD.png?format=750w')\n"
     ],
     "language": "python",
     "metadata": {},
     "outputs": [
      {
       "html": [
        "<img src=\"http://static.squarespace.com/static/5150aec6e4b0e340ec52710a/t/51525c33e4b0b3e0d10f77ab/1364352052403/Data_Science_VD.png?format=750w\"/>"
       ],
       "metadata": {},
       "output_type": "pyout",
       "prompt_number": 2,
       "text": [
        "<IPython.core.display.Image at 0x102587a50>"
       ]
      }
     ],
     "prompt_number": 2
    },
    {
     "cell_type": "markdown",
     "metadata": {},
     "source": [
      "Read the full story:\n",
      "\n",
      "http://lucafoschini.com/notebooks/Agile%20Data%20Science%20Meetup.slides.html#/\n",
      "\n",
      "Source:\n",
      "\n",
      "https://github.com/LucaFoschini/lucafoschini.github.io/blob/master/notebooks/Agile%20Data%20Science%20Meetup.ipynb\n",
      "\n",
      "(Another feature of Notebooks: Make slides out of them!)\n",
      "\n",
      "# Data Science from the command line\n",
      "\n",
      "Unix texutils can go a long way:\n",
      "\n",
      "http://jeroenjanssens.com/2013/09/19/seven-command-line-tools-for-data-science.html"
     ]
    },
    {
     "cell_type": "markdown",
     "metadata": {},
     "source": [
      "Examples:\n",
      "\n",
      "http://www.ibm.com/developerworks/aix/library/au-unixtext/\n",
      "\n",
      "Run throught tutorial, until the section \"awk\""
     ]
    },
    {
     "cell_type": "code",
     "collapsed": false,
     "input": [],
     "language": "python",
     "metadata": {},
     "outputs": []
    }
   ],
   "metadata": {}
  }
 ]
}