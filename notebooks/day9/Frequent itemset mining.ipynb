{
 "metadata": {
  "name": ""
 },
 "nbformat": 3,
 "nbformat_minor": 0,
 "worksheets": [
  {
   "cells": [
    {
     "cell_type": "raw",
     "metadata": {},
     "source": [
      " Frequent itemset mining.\n",
      "\n",
      "wget http://www.cs.ucsb.edu/~xyan/software/gSpan2009-02-20/gSpan6.tar.gz\n",
      "tar -xzvf gSpan6.tar.gz\n",
      "wget http://www.cs.ucsb.edu/~xyan/software/gSpan2009-02-20/gSpan-64\n",
      "chmod +x gSpan-64"
     ]
    }
   ],
   "metadata": {}
  }
 ]
}