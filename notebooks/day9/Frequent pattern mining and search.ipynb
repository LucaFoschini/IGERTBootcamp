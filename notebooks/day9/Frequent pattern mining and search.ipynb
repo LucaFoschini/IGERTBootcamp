{
 "metadata": {
  "name": ""
 },
 "nbformat": 3,
 "nbformat_minor": 0,
 "worksheets": [
  {
   "cells": [
    {
     "cell_type": "raw",
     "metadata": {},
     "source": [
      "First do:\n",
      "\n",
      "ssh -Y YOURUSERNAME@mcl-ID.cs.ucsb.edu\n",
      "\n",
      "where ID is the id of your esbtl machine\n",
      "\n",
      "Then:\n",
      "\n",
      "cd IGERTBootcamp\n",
      "git pull origin master\n",
      "source scripts/set_path.sh\n",
      "cd notebooks\n",
      "ipython notebook"
     ]
    },
    {
     "cell_type": "heading",
     "level": 1,
     "metadata": {},
     "source": [
      "Datasets:"
     ]
    },
    {
     "cell_type": "markdown",
     "metadata": {},
     "source": [
      "IGERTBootcamp/notebooks/day7/data"
     ]
    },
    {
     "cell_type": "raw",
     "metadata": {},
     "source": [
      "1 - Read graphs from the databases.\n",
      "    \n",
      "Format: \n",
      "\"t # N\" means the Nth graph,\n",
      "\"v M L\" means that the Mth vertex in this graph has label L,\n",
      "\"e P Q L\" means that there is an edge connecting the Pth vertex with the\n",
      "Qth vertex. The edge has label L.\n",
      "M, N, P, Q, and L are integers.\n"
     ]
    },
    {
     "cell_type": "raw",
     "metadata": {},
     "source": [
      " Resources: https://docs.python.org/2/tutorial/inputoutput.html\n",
      "            http://www.pythonforbeginners.com/files/reading-and-writing-files-in-python"
     ]
    },
    {
     "cell_type": "raw",
     "metadata": {},
     "source": [
      "Sample code:"
     ]
    },
    {
     "cell_type": "code",
     "collapsed": false,
     "input": [
      "from networkx import *\n",
      "from IPython.display import Image\n",
      "\n",
      "fname = \"day9/data/Chemical_340\"\n",
      "file = open(fname, 'r')\n",
      "graphs = []\n",
      "flag = False\n",
      "\n",
      "for line in file:\n",
      "    line = line.rstrip()\n",
      "    vec = line.rsplit()\n",
      "\t\n",
      "    if vec[0] == \"t\":\n",
      "        g = Graph()\n",
      "\n",
      "        if flag is True:\n",
      "            graphs.append(g)\n",
      "        else:\n",
      "            flag = True\n",
      "\n",
      "    elif vec[0] == \"v\":\n",
      "        g.add_node(vec[1], {\"label\":vec[2]})\n",
      "    elif vec[0] == \"e\":\n",
      "        g.add_edge(vec[1], vec[2], {\"label\":vec[3]})\n",
      "\t\t\n",
      "    graphs.append(g)\n",
      "\n",
      "print \"num graphs read: \", len(graphs)"
     ],
     "language": "python",
     "metadata": {},
     "outputs": [
      {
       "output_type": "stream",
       "stream": "stdout",
       "text": [
        "num graphs read:  19185\n"
       ]
      }
     ],
     "prompt_number": 7
    },
    {
     "cell_type": "code",
     "collapsed": false,
     "input": [
      "2 - For each database, count how many graphs contain at least one subgraph with the following shapes."
     ],
     "language": "python",
     "metadata": {},
     "outputs": []
    },
    {
     "cell_type": "code",
     "collapsed": false,
     "input": [
      "Image(\"day9/data/shapes.png\")"
     ],
     "language": "python",
     "metadata": {},
     "outputs": [
      {
       "metadata": {},
       "output_type": "pyout",
       "png": "[encoded data removed]",
       "prompt_number": 9,
       "text": [
        "<IPython.core.display.Image at 0x7fa4d241dd10>"
       ]
      }
     ],
     "prompt_number": 9
    },
    {
     "cell_type": "raw",
     "metadata": {},
     "source": [
      "Resources:\n",
      "    http://networkx.github.io/documentation/latest/reference/algorithms.isomorphism.html\n",
      "    http://networkx.github.io/documentation/latest/reference/algorithms.isomorphism.vf2.html#subgraph-isomorphism\n",
      "\n",
      "Sample code:"
     ]
    },
    {
     "cell_type": "code",
     "collapsed": false,
     "input": [
      "triangle = Graph()\n",
      "triangle.add_edge(1,2)\n",
      "triangle.add_edge(2,3)\n",
      "triangle.add_edge(1,3)\n",
      "print triangle.edges()"
     ],
     "language": "python",
     "metadata": {},
     "outputs": [
      {
       "output_type": "stream",
       "stream": "stdout",
       "text": [
        "[(1, 2), (1, 3), (2, 3)]\n"
       ]
      }
     ],
     "prompt_number": 10
    },
    {
     "cell_type": "code",
     "collapsed": false,
     "input": [
      "#Checking whether h has an isomorphic subgraph in g\n",
      "g = Graph()\n",
      "h = Graph()\n",
      "\n",
      "g.add_edge(1,2)\n",
      "g.add_edge(2,3)\n",
      "g.add_edge(1,3)\n",
      "g.add_edge(1,4)\n",
      "g.add_edge(2,4)\n",
      "g.add_edge(3,4)\n",
      "\n",
      "h.add_edge(1,2)\n",
      "h.add_edge(2,3)\n",
      "h.add_edge(1,3)\n",
      "\n",
      "gm = isomorphism.GraphMatcher(g, h)\n",
      "\n",
      "print gm.subgraph_is_isomorphic()"
     ],
     "language": "python",
     "metadata": {},
     "outputs": [
      {
       "output_type": "stream",
       "stream": "stdout",
       "text": [
        "True\n"
       ]
      }
     ],
     "prompt_number": 11
    },
    {
     "cell_type": "code",
     "collapsed": false,
     "input": [
      "#Checking whether g has an isomorphic subgraph in h\n",
      "\n",
      "gm = isomorphism.GraphMatcher(h, g)\n",
      "\n",
      "print gm.subgraph_is_isomorphic()"
     ],
     "language": "python",
     "metadata": {},
     "outputs": [
      {
       "output_type": "stream",
       "stream": "stdout",
       "text": [
        "False\n"
       ]
      }
     ],
     "prompt_number": 12
    },
    {
     "cell_type": "raw",
     "metadata": {},
     "source": [
      "3 - Visualize each mapping of a square graph (2 in the figure) to the graphs in the databases. Don't forget to add the labels to distinguish different mappings.\n",
      "\n",
      "Resources:\n",
      "    https://networkx.github.io/documentation/latest/reference/drawing.html\n",
      "    http://networkx.github.io/documentation/latest/reference/algorithms.isomorphism.html\n",
      "    http://networkx.github.io/documentation/latest/reference/algorithms.isomorphism.vf2.html#subgraph-isomorphism\n",
      " \n",
      "Sample code:"
     ]
    },
    {
     "cell_type": "code",
     "collapsed": false,
     "input": [
      "gm = isomorphism.GraphMatcher(g, h)\n",
      "for i in gm.subgraph_isomorphisms_iter():\n",
      "    print i"
     ],
     "language": "python",
     "metadata": {},
     "outputs": [
      {
       "output_type": "stream",
       "stream": "stdout",
       "text": [
        "{1: 1, 2: 2, 3: 3}\n",
        "{1: 1, 2: 2, 4: 3}\n",
        "{1: 1, 2: 3, 3: 2}\n",
        "{1: 1, 3: 2, 4: 3}\n",
        "{1: 1, 2: 3, 4: 2}\n",
        "{1: 1, 3: 3, 4: 2}\n",
        "{1: 2, 2: 1, 3: 3}\n",
        "{1: 2, 2: 1, 4: 3}\n",
        "{1: 3, 2: 1, 3: 2}\n",
        "{2: 1, 3: 2, 4: 3}\n",
        "{1: 3, 2: 1, 4: 2}\n",
        "{2: 1, 3: 3, 4: 2}\n",
        "{1: 2, 2: 3, 3: 1}\n",
        "{1: 2, 3: 1, 4: 3}\n",
        "{1: 3, 2: 2, 3: 1}\n",
        "{2: 2, 3: 1, 4: 3}\n",
        "{1: 3, 3: 1, 4: 2}\n",
        "{2: 3, 3: 1, 4: 2}\n",
        "{1: 2, 2: 3, 4: 1}\n",
        "{1: 2, 3: 3, 4: 1}\n",
        "{1: 3, 2: 2, 4: 1}\n",
        "{2: 2, 3: 3, 4: 1}\n",
        "{1: 3, 3: 2, 4: 1}\n",
        "{2: 3, 3: 2, 4: 1}\n"
       ]
      }
     ],
     "prompt_number": 13
    },
    {
     "cell_type": "code",
     "collapsed": false,
     "input": [],
     "language": "python",
     "metadata": {},
     "outputs": []
    }
   ],
   "metadata": {}
  }
 ]
}