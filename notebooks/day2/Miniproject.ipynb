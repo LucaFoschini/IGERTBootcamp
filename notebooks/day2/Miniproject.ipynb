{
 "metadata": {
  "name": "",
  "signature": "sha256:98ddf78a734c1a6499fbc1aff7fd6401c1e46325f4811541ba77b5a1eedbc571"
 },
 "nbformat": 3,
 "nbformat_minor": 0,
 "worksheets": [
  {
   "cells": [
    {
     "cell_type": "markdown",
     "metadata": {},
     "source": [
      "# The Kinda Malicious Scientist\n",
      "\n",
      "Your algorithm is able to detect a malware in a dataset with 50% chance. Not great. Basically, it's no better than flipping a coin.\n",
      "\n",
      "However, the deadline is approaching and you need to submit that paper. You have a set of datasets for which you know the ground truth (i.e., whether the malware is present or not) and you need to decide which one to include in the experimental section of your paper. \n",
      "\n",
      "You start from testing you algorithm on a first dataset: it fails to detect the malware. Your ethical conduit prevents you from excluding any dataset you've tried from the analysis. So you decide to test another one. It works! Then another one: it works again: 66% detection rate (2/3)! \n",
      "How many datasets should you test before you stop, if you want to maximize the detection rate?\n",
      "In addition, for whatever stopping rule you decide do adopt, what is the detection rate you'd obtain in expectation if you repeat the same exercise many times?\n",
      "\n",
      "In other words: if you flip a coin until you decide to stop and you want to maximize the ratio of heads to total flips, what is that expected ratio you obtain?"
     ]
    },
    {
     "cell_type": "code",
     "collapsed": false,
     "input": [],
     "language": "python",
     "metadata": {},
     "outputs": []
    }
   ],
   "metadata": {}
  }
 ]
}