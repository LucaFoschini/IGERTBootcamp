{
 "metadata": {
  "name": "",
  "signature": "sha256:ab6d511d8fce1f91d4603cc31990f9c191713db4140e1d480a5c3e88b80f7916"
 },
 "nbformat": 3,
 "nbformat_minor": 0,
 "worksheets": [
  {
   "cells": [
    {
     "cell_type": "markdown",
     "metadata": {},
     "source": [
      "# The malicious scientist\n",
      "\n",
      "In other words: if you flip a coin until you decide to stop and you want to maximize the ratio of heads to total flips, what is that expected ratio?"
     ]
    },
    {
     "cell_type": "code",
     "collapsed": false,
     "input": [],
     "language": "python",
     "metadata": {},
     "outputs": []
    }
   ],
   "metadata": {}
  }
 ]
}