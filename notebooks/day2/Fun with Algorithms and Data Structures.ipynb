{
 "metadata": {
  "name": "",
  "signature": "sha256:5ae2015a61ec14c5d60c4147709b484c5b3b2eada27de7c73ca1cccf30cffdf7"
 },
 "nbformat": 3,
 "nbformat_minor": 0,
 "worksheets": [
  {
   "cells": [
    {
     "cell_type": "heading",
     "level": 1,
     "metadata": {},
     "source": [
      "Some helpful interacting and timing operations"
     ]
    },
    {
     "cell_type": "code",
     "collapsed": false,
     "input": [
      "from IPython.html.widgets import interact\n",
      "import numpy\n",
      "import datetime"
     ],
     "language": "python",
     "metadata": {},
     "outputs": [],
     "prompt_number": 64
    },
    {
     "cell_type": "code",
     "collapsed": false,
     "input": [
      "def time_sort(nn):\n",
      "    before = datetime.datetime.now()\n",
      "    n_runs = 100\n",
      "    for i in range(n_runs):\n",
      "        l = numpy.random.rand(nn); \n",
      "        l.sort()\n",
      "    print \"Took \", (datetime.datetime.now() - before).microseconds/float(n_runs), \"microseconds\""
     ],
     "language": "python",
     "metadata": {},
     "outputs": [],
     "prompt_number": 77
    },
    {
     "cell_type": "code",
     "collapsed": false,
     "input": [
      "interact(time_sort, nn=(100,1000000,10000));"
     ],
     "language": "python",
     "metadata": {},
     "outputs": [
      {
       "output_type": "stream",
       "stream": "stdout",
       "text": [
        "Took  970.27 microseconds\n"
       ]
      }
     ],
     "prompt_number": 78
    },
    {
     "cell_type": "markdown",
     "metadata": {},
     "source": [
      "# Counting Sort\n",
      "\n",
      "Implement the couting sort"
     ]
    },
    {
     "cell_type": "code",
     "collapsed": false,
     "input": [],
     "language": "python",
     "metadata": {},
     "outputs": []
    },
    {
     "cell_type": "markdown",
     "metadata": {},
     "source": [
      "# Array allocation\n",
      "\n",
      "Time python list allocation"
     ]
    },
    {
     "cell_type": "code",
     "collapsed": false,
     "input": [],
     "language": "python",
     "metadata": {},
     "outputs": []
    },
    {
     "cell_type": "markdown",
     "metadata": {},
     "source": [
      "# Reservoir Sampling\n",
      "\n",
      "Implement the reservoir sampling"
     ]
    },
    {
     "cell_type": "code",
     "collapsed": false,
     "input": [],
     "language": "python",
     "metadata": {},
     "outputs": []
    },
    {
     "cell_type": "markdown",
     "metadata": {},
     "source": [
      "#Fisher-Yates shuffler:\n",
      "\n",
      "http://bost.ocks.org/mike/algorithms/#shuffling "
     ]
    },
    {
     "cell_type": "code",
     "collapsed": false,
     "input": [],
     "language": "python",
     "metadata": {},
     "outputs": []
    }
   ],
   "metadata": {}
  }
 ]
}