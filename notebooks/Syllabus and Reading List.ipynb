{
 "metadata": {
  "name": "",
  "signature": "sha256:895ff5db4b726639a18e326a52594b7a1105c57b5582c3a3e8d3c7ddcfc8f8db"
 },
 "nbformat": 3,
 "nbformat_minor": 0,
 "worksheets": [
  {
   "cells": [
    {
     "cell_type": "markdown",
     "metadata": {},
     "source": [
      "# Slides\n",
      "\n",
      "[slides.pdf](Local Copy)"
     ]
    },
    {
     "cell_type": "markdown",
     "metadata": {},
     "source": [
      "# Reading List\n",
      "\n",
      "CRL"
     ]
    },
    {
     "cell_type": "markdown",
     "metadata": {},
     "source": [
      "# Syllabus\n",
      "\n",
      "Days 1-3\n",
      "\n",
      "- Introduction to version control, reproducible science, research methodology. \n",
      "- Python and IPython notebooks\n",
      "- Data preparation with Python and Pandas\n",
      "- Library ecosystem and integrations\n",
      "- Foundations of Theory of Computing: algorithm complexity, searching, sorting\n",
      "- Probability and Statistics for Computer Science\n",
      "- Graph analysis\n",
      "- Network Science"
     ]
    },
    {
     "cell_type": "code",
     "collapsed": false,
     "input": [],
     "language": "python",
     "metadata": {},
     "outputs": []
    }
   ],
   "metadata": {}
  }
 ]
}