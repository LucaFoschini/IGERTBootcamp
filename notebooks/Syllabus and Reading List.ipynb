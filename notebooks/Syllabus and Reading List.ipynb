{
 "metadata": {
  "name": "",
  "signature": "sha256:22ba510e618706cb0de81bcbed59e19efad6eff3329d0e17241af1d64cbae8df"
 },
 "nbformat": 3,
 "nbformat_minor": 0,
 "worksheets": [
  {
   "cells": [
    {
     "cell_type": "markdown",
     "metadata": {},
     "source": [
      "# Syllabus\n",
      "\n",
      "Days 1-3\n",
      "\n",
      "- Introduction to version control, reproducible science, research methodology. \n",
      "- Python and IPython notebooks\n",
      "- Data preparation with Python and Pandas\n",
      "- Library ecosystem and integrations\n",
      "- Foundations of Theory of Computing: algorithm complexity, searching, sorting\n",
      "- Probability and Statistics for Computer Science\n",
      "- Graph analysis\n",
      "- Network Science"
     ]
    },
    {
     "cell_type": "markdown",
     "metadata": {},
     "source": [
      "# Slides\n",
      "\n",
      "[slides.pdf](slides.pdf)"
     ]
    },
    {
     "cell_type": "markdown",
     "metadata": {},
     "source": [
      "# Reading List\n",
      "\n",
      "- *Thomas H. Cormen, Charles E. Leiserson, Ronald L. Rivest, Clifford Stein*\n",
      "  **Introduction to Algorithms** (Third Edition)\n",
      "\n",
      "http://ldc.usb.ve/~xiomara/ci2525/ALG_3rd.pdf\n",
      "\n",
      "Relevant sections: \n",
      "\n",
      "- 1.1 Algorithms\n",
      "- 1.2 Algorithms as a technology\n",
      "- 2.2 Analyzing algorithms\n",
      "- 5 Probabilistic Analysis and Randomized Algorithms\n",
      "\n",
      "- 10 Elementary Data Structures\n",
      "- 11 Hash Tables\n",
      "- 12 Binary Search Trees\n",
      "- 16 Greedy Algorithms\n",
      "\n",
      "- 22 Elementary Graph Algorithms\n",
      "- 23 Minimum Spanning Trees\n",
      "- 24 Single-Source Shortest Paths\n",
      "- 25 All-Pairs Shortest Paths\n",
      "- 27 Multithreaded Algorithms\n",
      "\n",
      "- 28 Matrix Operations\n",
      "- 34 NP-Completeness\n",
      "- 35 Approximation Algorithms\n",
      "\n",
      "- VIII Appendix: Mathematical Background\n",
      "- Chapters A,B,C\n"
     ]
    }
   ],
   "metadata": {}
  }
 ]
}