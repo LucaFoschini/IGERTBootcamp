{
 "metadata": {
  "name": "",
  "signature": "sha256:8e7d0316d6c503be390ce2c1f58339b35bc7cc9d4dd9915e05717beb3e1d8496"
 },
 "nbformat": 3,
 "nbformat_minor": 0,
 "worksheets": [
  {
   "cells": [
    {
     "cell_type": "markdown",
     "metadata": {},
     "source": [
      "# Introduction to NetworkX\n",
      "\n",
      "1. Images on nodes\n",
      "https://www.wakari.io/sharing/bundle/nvikram/Basics%20of%20Networkx\n",
      "\n",
      "2. Integration with D3\n",
      "http://nbviewer.ipython.org/github/ipython-books/cookbook-code/blob/master/notebooks/chapter06_viz/04_d3.ipynb\n",
      "\n",
      "3. Mayavi and NetworkX\n",
      "https://www.udacity.com/wiki/creating-network-graphs-with-python\n",
      "\n",
      "\n",
      "# Graphlab\n",
      "\n",
      "CMU Scalable, embedded machine learning capabilites:\n",
      "\n",
      "http://graphlab.com/learn/gallery/notebooks/graph_analytics_movies.html\n",
      "\n",
      "\n",
      "# Spark GraphX\n",
      "\n",
      "Fast in-memory graph analytics, from Berkeley AMPlab\n",
      "\n",
      "https://spark.apache.org/graphx/\n"
     ]
    },
    {
     "cell_type": "markdown",
     "metadata": {},
     "source": [
      "# Other\n",
      "\n",
      "1. Visits visualization\n",
      "\n",
      "http://bost.ocks.org/mike/algorithms/#maze-generation \n",
      "\n",
      "2. Boost Graph Library\n",
      "\n",
      "http://www.boost.org/doc/libs/1_56_0/libs/graph/doc/table_of_contents.html\n",
      "\n",
      "3. Pregel \n",
      "\n",
      "http://googleresearch.blogspot.com/2009/06/large-scale-graph-computing-at-google.html\n",
      " \n",
      "4. Mathematica\n",
      " \n",
      "http://www.wolfram.com/mathematica/new-in-9/social-network-analysis/"
     ]
    },
    {
     "cell_type": "code",
     "collapsed": false,
     "input": [],
     "language": "python",
     "metadata": {},
     "outputs": []
    }
   ],
   "metadata": {}
  }
 ]
}