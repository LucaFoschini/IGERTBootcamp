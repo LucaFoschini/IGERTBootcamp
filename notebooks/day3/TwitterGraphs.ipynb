{
 "metadata": {
  "name": "",
  "signature": "sha256:47be15bcde0ba4ca25c4d79a36ad5dae4f5a38befadbd7d2a2cb45275e2cff4e"
 },
 "nbformat": 3,
 "nbformat_minor": 0,
 "worksheets": [
  {
   "cells": [
    {
     "cell_type": "heading",
     "level": 2,
     "metadata": {},
     "source": [
      "An interactive narrative built with twython, NetworkX and IPython"
     ]
    },
    {
     "cell_type": "markdown",
     "metadata": {},
     "source": [
      "**Author:** [Fernando Perez](http://fperez.org), [@fperez_org](http://twitter.com/fperez_org).\n",
      "\n",
      "Modified by [Luca Foschini](http://lucafoschini.com) (ported to Twithon cursor system and OAuth 2.0)\n",
      "\n",
      "Original example at:\n",
      "\n",
      "http://nbviewer.ipython.org/gist/fperez/5681541/TwitterGraphs.ipynb\n",
      "\n",
      "**Location:** this example is available as a [public Gist](https://gist.github.com/fperez/5681541) that contains both this notebook and the accompanying Python `text_utils.py` module.\n",
      "\n",
      "In this example, we use the IPython notebook to mine data from Twitter with the [twython library](http://pypi.python.org/pypi/twython).  Once we have fetched the raw stream for a specific query, we will at first do some basic word frequency analysis on the results using Python's builtin dictionaries, and then we will use the excellent [NetworkX](http://networkx.lanl.gov) library developed at Los Alamos National Laboratory to look at the results as a network and understand some of its properties.  \n",
      "\n",
      "Using NetworkX, we aim to answer the following questions: for a given query, which words tend to appear together in tweets, and global pattern of relationships between these words emerges from the entire set of results?\n",
      "\n",
      "Obviously the analysis of text corpora of this kind is a complex topic at the intersection of natural language processing, graph theory and statistics, and here we do not pretend to provide an exhaustive coverage of it.  Rather, we want to show you how with a small amount of easy to write code, it is possible to do a few non-trivial things based on real-time data from the Twitter stream.  Hopefully this will serve as a good starting point;  for further reading you can find in-depth discussions of analysing social network data in Python in the book [Mining the Social Web](http://shop.oreilly.com/product/0636920010203.do).\n",
      "\n",
      "**Note:** for this you'll need to have NetworkX as well as twython installed.  You can do so in Ubuntu with the command\n",
      "\n",
      "    sudo apt-get install python-networkx\n",
      "    sudo pip install twython\n",
      "\n",
      "or in other systems with\n",
      "\n",
      "    sudo pip install networkx\n",
      "    sudo pip install twython\n",
      "\n",
      "where you should simply omit the `sudo` command if you are using Windows."
     ]
    },
    {
     "cell_type": "heading",
     "level": 2,
     "metadata": {},
     "source": [
      "Initialization and libraries"
     ]
    },
    {
     "cell_type": "markdown",
     "metadata": {},
     "source": [
      "We start by loading the pylab plot support as well as importing NetworkX and the free Twython library to query Twitter's stream:"
     ]
    },
    {
     "cell_type": "code",
     "collapsed": false,
     "input": [
      "%pylab inline\n",
      "import networkx as nx\n",
      "from twython import Twython"
     ],
     "language": "python",
     "metadata": {},
     "outputs": [
      {
       "output_type": "stream",
       "stream": "stdout",
       "text": [
        "Populating the interactive namespace from numpy and matplotlib\n"
       ]
      }
     ],
     "prompt_number": 2
    },
    {
     "cell_type": "markdown",
     "metadata": {},
     "source": [
      "Now, we load a local library with some analysis utilities whose code is a bit long to display inline. If you downloaded the [complete gist](https://gist.github.com/fperez/5681541) you should already have it."
     ]
    },
    {
     "cell_type": "code",
     "collapsed": true,
     "input": [
      "import text_utils as tu  # shorthand for convenience"
     ],
     "language": "python",
     "metadata": {},
     "outputs": [],
     "prompt_number": 3
    },
    {
     "cell_type": "markdown",
     "metadata": {},
     "source": [
      "And we create the main Twitter object we'll use later for all queries:"
     ]
    },
    {
     "cell_type": "code",
     "collapsed": true,
     "input": [
      "APP_KEY = 'YOUR_APP_KEY'\n",
      "APP_SECRET = 'YOUR_APP_SECRET'\n",
      "twitter = Twython()\n",
      "twitter = Twython(APP_KEY, APP_SECRET, oauth_version=2)\n",
      "ACCESS_TOKEN = twitter.obtain_access_token()\n",
      "twitter = Twython(APP_KEY, access_token=ACCESS_TOKEN)"
     ],
     "language": "python",
     "metadata": {},
     "outputs": [],
     "prompt_number": 5
    },
    {
     "cell_type": "heading",
     "level": 2,
     "metadata": {},
     "source": [
      "Query declaration"
     ]
    },
    {
     "cell_type": "markdown",
     "metadata": {},
     "source": [
      "Here we define which query we want to perform, as well as which words we want to filter out from our analysis because they appear very commonly and we're not interested in them.  \n",
      "\n",
      "Typically you want to run the query once, and after seeing what comes out, fine-tune the removal list, as the definition of which words are considered 'noise' is fairly query-specific (and also changes over time, depending on what's happening out there on Twitter):"
     ]
    },
    {
     "cell_type": "code",
     "collapsed": false,
     "input": [
      "query = \"Big Data\"\n",
      "words_to_remove = \"\"\"with what some your just have from it's /via &amp;\n",
      "that they your there this\"\"\""
     ],
     "language": "python",
     "metadata": {},
     "outputs": [],
     "prompt_number": 7
    },
    {
     "cell_type": "heading",
     "level": 2,
     "metadata": {},
     "source": [
      "Perform query to Twitter servers"
     ]
    },
    {
     "cell_type": "markdown",
     "metadata": {},
     "source": [
      "This is the cell that actually fetches data from Twitter.  We limit the output to the first 30 pages of search max (though typically Twitter stops returning results before that)."
     ]
    },
    {
     "cell_type": "code",
     "collapsed": false,
     "input": [
      "max_count = 1000\n",
      "results = []\n",
      "retweets = []\n",
      "\n",
      "results_iter = twitter.cursor(twitter.search, q=query, lang = 'en')\n",
      "\n",
      "i = 0\n",
      "for res in results_iter:\n",
      "    i += 1\n",
      "    if res['text'].startswith('RT '):\n",
      "        retweets.append(res)\n",
      "    else:\n",
      "        results.append(res)\n",
      "    if i > max_count:\n",
      "        break\n",
      "        \n",
      "tweets = [t['text'] for t in results]\n",
      "\n",
      "# Quick summary\n",
      "print 'Query:   ', query\n",
      "print 'Results: ', len(results)\n",
      "print 'Retweets:', len(retweets)\n",
      "print 'Variable `tweets` has a list of all the tweet texts'"
     ],
     "language": "python",
     "metadata": {},
     "outputs": [
      {
       "output_type": "stream",
       "stream": "stdout",
       "text": [
        "Query:    Big Data\n",
        "Results:  600\n",
        "Retweets: 401\n",
        "Variable `tweets` has a list of all the tweet texts\n"
       ]
      }
     ],
     "prompt_number": 18
    },
    {
     "cell_type": "heading",
     "level": 2,
     "metadata": {},
     "source": [
      "Text statistics"
     ]
    },
    {
     "cell_type": "markdown",
     "metadata": {},
     "source": [
      "Let's see what the first 10 tweets look like:"
     ]
    },
    {
     "cell_type": "code",
     "collapsed": false,
     "input": [
      "tweets[:10]"
     ],
     "language": "python",
     "metadata": {},
     "outputs": [
      {
       "metadata": {},
       "output_type": "pyout",
       "prompt_number": 19,
       "text": [
        "[u'Big Data-Driven Innovation: Disruption vs. Optimization | WIRED http://t.co/Mx5BOXR5Wm',\n",
        " u\"Love it: RT @nivertech: Moore's Law of Big Data: http://t.co/no5hQQH41A\",\n",
        " u'IBM Big Data &amp; Analytics helps eHarmony identify more compatible matches in real time http://t.co/2fWmzWAXV7 http://t.co/SbyFnKnCbM',\n",
        " u'#BigData #IoT startup #Altizon gets seed funding from The Hive, Infuse &amp; Persistent |VCCircle http://t.co/pk0XqxFfy0 #vccircle via @vccircle',\n",
        " u'Spark replacing MapReduce?\\n\\nhttps://t.co/HNDS7lcwZ0',\n",
        " u'\"180 leading data science, big data and analytics bloggers\" by @analyticbridge on @LinkedIn http://t.co/m2ufRspDkP',\n",
        " u'Big Data And Big #Sports: How Data Is Changing The Future Of Sports http://t.co/IOehJCuGnE',\n",
        " u'IBMs @rsips giving an overview of a rather secretive \"big-data meets climate science\" NED+KAZ collab in #Novosibirsk http://t.co/F9pMOCNr6I',\n",
        " u'Great insights from @Knightsinwhites @JayneHilditch in ideas forum today. Need big data and IT skills on boards #nhf14',\n",
        " u'Big Data-Driven Innovation: Disruption vs. Optimization | WIRED http://t.co/Mx5BOXR5Wm']"
       ]
      }
     ],
     "prompt_number": 19
    },
    {
     "cell_type": "markdown",
     "metadata": {},
     "source": [
      "Now we do some cleanup of the common words above, so that we can then compute some basic statistics:"
     ]
    },
    {
     "cell_type": "code",
     "collapsed": false,
     "input": [
      "remove = tu.removal_set(words_to_remove, query)\n",
      "lines = tu.lines_cleanup([tweet['text'].encode('utf-8') for tweet in results], remove=remove)\n",
      "words = '\\n'.join(lines).split()"
     ],
     "language": "python",
     "metadata": {},
     "outputs": [],
     "prompt_number": 20
    },
    {
     "cell_type": "markdown",
     "metadata": {},
     "source": [
      "Compute frequency histogram:"
     ]
    },
    {
     "cell_type": "code",
     "collapsed": true,
     "input": [
      "wf = tu.word_freq(words)\n",
      "sorted_wf = tu.sort_freqs(wf)"
     ],
     "language": "python",
     "metadata": {},
     "outputs": [],
     "prompt_number": 21
    },
    {
     "cell_type": "markdown",
     "metadata": {},
     "source": [
      "Let's look at a summary of the word frequencies from this dataset:"
     ]
    },
    {
     "cell_type": "code",
     "collapsed": false,
     "input": [
      "tu.summarize_freq_hist(sorted_wf)"
     ],
     "language": "python",
     "metadata": {},
     "outputs": [
      {
       "output_type": "stream",
       "stream": "stdout",
       "text": [
        "Number of unique words: 83\n",
        "\n",
        "10 least frequent words:\n",
        "http://t.co/h3vavm5znv -> 1\n",
        "      #watsonanalytics -> 1\n",
        "           \"analytics\" -> 1\n",
        "                  tool -> 1\n",
        "                  #ibm -> 1\n",
        "       #cloudcomputing -> 1\n",
        "      @businessinsider -> 1\n",
        "              launched -> 1\n",
        "                boards -> 65\n",
        "                  need -> 65\n",
        "\n",
        "10 most frequent words:\n",
        "             disruption -> 67\n",
        "                science -> 67\n",
        "             persistent -> 67\n",
        " http://t.co/2fwmzwaxv7 -> 67\n",
        "             compatible -> 67\n",
        "           optimization -> 67\n",
        "                   time -> 67\n",
        "              #vccircle -> 67\n",
        "https://t.co/hnds7lcwz0 -> 67\n",
        "              analytics -> 134\n"
       ]
      }
     ],
     "prompt_number": 22
    },
    {
     "cell_type": "markdown",
     "metadata": {},
     "source": [
      "Now we can plot the histogram of the `n_words` most frequent words:"
     ]
    },
    {
     "cell_type": "code",
     "collapsed": false,
     "input": [
      "n_words = 15\n",
      "tu.plot_word_histogram(sorted_wf, n_words,\"Frequencies for %s most frequent words\" % n_words);"
     ],
     "language": "python",
     "metadata": {},
     "outputs": [
      {
       "metadata": {},
       "output_type": "display_data",
       "png": "[encoded data removed]",
       "text": [
        "<matplotlib.figure.Figure at 0x107d87ed0>"
       ]
      }
     ],
     "prompt_number": 23
    },
    {
     "cell_type": "markdown",
     "metadata": {},
     "source": [
      "Above we trimmed the historgram to only show `n_words` because the distribution is very sharply peaked; this is what the histogram for the whole word list looks like:"
     ]
    },
    {
     "cell_type": "code",
     "collapsed": false,
     "input": [
      "tu.plot_word_histogram(sorted_wf, 1.0, \"Frequencies for entire word list\");"
     ],
     "language": "python",
     "metadata": {},
     "outputs": [
      {
       "metadata": {},
       "output_type": "display_data",
       "png": "[encoded data removed]",
       "text": [
        "<matplotlib.figure.Figure at 0x108c49510>"
       ]
      }
     ],
     "prompt_number": 24
    },
    {
     "cell_type": "heading",
     "level": 2,
     "metadata": {},
     "source": [
      "Co-occurrence graph"
     ]
    },
    {
     "cell_type": "markdown",
     "metadata": {},
     "source": [
      "An interesting question to ask is: which pairs of words co-occur in the same tweets?  We can find these relations and use them to construct a graph, which we can then analyze with NetworkX and plot with Matplotlib.\n",
      "\n",
      "We limit the graph to have at most `n_nodes` (for the most frequent words) just to keep the visualization easier to read."
     ]
    },
    {
     "cell_type": "code",
     "collapsed": false,
     "input": [
      "n_nodes = 10\n",
      "popular = sorted_wf[-n_nodes:]\n",
      "pop_words = [wc[0] for wc in popular]\n",
      "co_occur = tu.co_occurrences(lines, pop_words)\n",
      "wgraph = tu.co_occurrences_graph(popular, co_occur, cutoff=1)\n",
      "wgraph = nx.connected_component_subgraphs(wgraph)[0]"
     ],
     "language": "python",
     "metadata": {},
     "outputs": [],
     "prompt_number": 25
    },
    {
     "cell_type": "markdown",
     "metadata": {},
     "source": [
      "An interesting summary of the graph structure can be obtained by ranking nodes based on a centrality measure.  NetworkX offers several centrality measures, in this case we look at the [Eigenvector Centrality](http://networkx.lanl.gov/reference/generated/networkx.algorithms.centrality.eigenvector_centrality.html#networkx.algorithms.centrality.eigenvector_centrality):"
     ]
    },
    {
     "cell_type": "code",
     "collapsed": false,
     "input": [
      "centrality = nx.eigenvector_centrality_numpy(wgraph)\n",
      "tu.summarize_centrality(centrality)"
     ],
     "language": "python",
     "metadata": {},
     "outputs": [
      {
       "output_type": "stream",
       "stream": "stdout",
       "text": [
        "\n",
        "Graph centrality\n",
        "      analytics: 0.524\n",
        "http://t.co/2fwmzwaxv7: 0.482\n",
        "           time: 0.482\n",
        "     compatible: 0.482\n",
        "        science: 0.17\n"
       ]
      }
     ],
     "prompt_number": 26
    },
    {
     "cell_type": "markdown",
     "metadata": {},
     "source": [
      "And we can use this measure to provide an interesting view of the structure of our query dataset:"
     ]
    },
    {
     "cell_type": "code",
     "collapsed": false,
     "input": [
      "print \"Graph visualization for query:\", query\n",
      "tu.plot_graph(wgraph, tu.centrality_layout(wgraph, centrality), plt.figure(figsize=(8,8)),\n",
      "    title='Centrality and term co-occurrence graph, q=\"%s\"' % query)"
     ],
     "language": "python",
     "metadata": {},
     "outputs": [
      {
       "output_type": "stream",
       "stream": "stdout",
       "text": [
        "Graph visualization for query: Big Data\n"
       ]
      },
      {
       "metadata": {},
       "output_type": "display_data",
       "png": "[encoded data removed]",
       "text": [
        "<matplotlib.figure.Figure at 0x107d87ad0>"
       ]
      }
     ],
     "prompt_number": 27
    },
    {
     "cell_type": "code",
     "collapsed": false,
     "input": [],
     "language": "python",
     "metadata": {},
     "outputs": []
    }
   ],
   "metadata": {}
  }
 ]
}