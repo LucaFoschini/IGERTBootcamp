{
 "metadata": {
  "name": "",
  "signature": "sha256:cbaf684d19ce9d3cb8edf0f3e1fb747991b0e2ce258aa37188c043e41da56640"
 },
 "nbformat": 3,
 "nbformat_minor": 0,
 "worksheets": [
  {
   "cells": [
    {
     "cell_type": "markdown",
     "metadata": {},
     "source": [
      "# Pick an example from:\n",
      "\n",
      "https://github.com/ptwobrussell/Mining-the-Social-Web-2nd-Edition#preview-the-ipython-notebooks\n",
      "\n",
      "and visualizes some of the computed graphs. \n",
      "Example:\n",
      "\n",
      "1. Graph of the co-occurrences of named entities (tip: use nltk to extact those, use a POS tagger NNP)\n",
      "2. Visualize your LinkedIn professional network\n",
      "3. Construct an ego-graph of shared interests, repositories, "
     ]
    }
   ],
   "metadata": {}
  }
 ]
}