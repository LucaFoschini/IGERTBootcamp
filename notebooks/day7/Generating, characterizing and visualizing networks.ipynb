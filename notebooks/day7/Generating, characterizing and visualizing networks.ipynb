{
 "metadata": {
  "name": "",
  "signature": "sha256:2ef9fee7c721869ba972249b235ccbb60b9b3735d5a20ab992cf8b664fa4c372"
 },
 "nbformat": 3,
 "nbformat_minor": 0,
 "worksheets": [
  {
   "cells": [
    {
     "cell_type": "markdown",
     "metadata": {},
     "source": [
      "First do:\n",
      "\n",
      "    ssh -Y YOURUSERNAME@mcl-ID.cs.ucsb.edu\n",
      "\n",
      "where ID is the id of your esbtl machine\n",
      "\n",
      "Then:\n",
      "\n",
      "    cd IGERTBootcamp\n",
      "    git pull origin master\n",
      "    source scripts/set_path.sh\n",
      "    cd notebooks\n",
      "    ipython notebook\n"
     ]
    },
    {
     "cell_type": "heading",
     "level": 1,
     "metadata": {},
     "source": [
      "Generating, characterizing and visualizing networks"
     ]
    },
    {
     "cell_type": "heading",
     "level": 2,
     "metadata": {},
     "source": [
      "Datasets:"
     ]
    },
    {
     "cell_type": "raw",
     "metadata": {},
     "source": [
      "IGERTBootcamp/notebooks/day7/data"
     ]
    },
    {
     "cell_type": "heading",
     "level": 2,
     "metadata": {},
     "source": [
      "TODO'S:"
     ]
    },
    {
     "cell_type": "markdown",
     "metadata": {},
     "source": [
      "Warning: In case you think your data is too large and you cannot compute a given metric, try to provide an alternative solution."
     ]
    },
    {
     "cell_type": "markdown",
     "metadata": {},
     "source": [
      "1 - Generate networks with 1K nodes and a similar number of edges using the following models:\n",
      "    a) erdos-renyi (random network)\n",
      "    b) Small-world\n",
      "    c) Barabasi-Albert (Preferential attachment)\n",
      "    \n",
      "Resources:\n",
      "    https://networkx.github.io/documentation/latest/reference/generators.html\n",
      "    \n",
      "Sample code:"
     ]
    },
    {
     "cell_type": "code",
     "collapsed": false,
     "input": [
      "from networkx import *\n",
      "import matplotlib.pyplot as plt\n",
      "from IPython.display import Image\n",
      "\n",
      "n = 10\n",
      "e = 5\n",
      "\n",
      "Grand = gnm_random_graph(n, e)\n",
      "\n",
      "print \"Nodes:\", Grand.nodes()\n",
      "print \"Edges:\", Grand.edges()\n"
     ],
     "language": "python",
     "metadata": {},
     "outputs": [
      {
       "output_type": "stream",
       "stream": "stdout",
       "text": [
        "Nodes: [0, 1, 2, 3, 4, 5, 6, 7, 8, 9]\n",
        "Edges: [(1, 9), (3, 5), (3, 7), (6, 9), (7, 9)]\n"
       ]
      }
     ],
     "prompt_number": 22
    },
    {
     "cell_type": "markdown",
     "metadata": {},
     "source": [
      "2 - Compute following for each of the networks:\n",
      "    a) Degree distribution\n",
      "    b) Average clustering coefficient\n",
      "    c) Diameter\n",
      "    d) Betweeness-centrality distribution\n",
      "    \n",
      "Resources: \n",
      "    https://networkx.github.io/documentation/latest/examples/graph/degree_sequence.html\n",
      "    http://matplotlib.org/api/pyplot_api.html\n",
      "    http://networkx.lanl.gov/reference/algorithms.centrality.html\n",
      "    http://networkx.lanl.gov/reference/generated/networkx.algorithms.distance_measures.diameter.html                                http://networkx.lanl.gov/reference/generated/networkx.algorithms.cluster.average_clustering.html#networkx.algorithms.cluster.average_clustering\n",
      "\n",
      "Sample code:"
     ]
    },
    {
     "cell_type": "code",
     "collapsed": false,
     "input": [
      "file=\"grand_deg.png\"\n",
      "deg_seq=sorted(degree(Grand).values(),reverse=True)\n",
      "plt.hist(deg_seq)\n",
      "plt.title(\"Degree distribution\")\n",
      "plt.ylabel(\"freq\")\n",
      "plt.xlabel(\"degree\")\n",
      "plt.savefig(file)\n",
      "plt.clf()\n",
      "Image(file)"
     ],
     "language": "python",
     "metadata": {},
     "outputs": [
      {
       "metadata": {},
       "output_type": "pyout",
       "png": "[encoded data removed]",
       "prompt_number": 23,
       "text": [
        "<IPython.core.display.Image at 0x7f7d2a24ee10>"
       ]
      }
     ],
     "prompt_number": 23
    },
    {
     "cell_type": "markdown",
     "metadata": {},
     "source": [
      "3 - Generate a visualization of the networks you have generated.\n",
      "\n",
      "Resources:\n",
      "    https://networkx.github.io/documentation/latest/reference/drawing.html\n",
      "    \n",
      "Sample code:"
     ]
    },
    {
     "cell_type": "code",
     "collapsed": false,
     "input": [
      "file=\"grand_viz.png\"\n",
      "gvz=to_agraph(Grand)\n",
      "gvz.node_attr['style']='filled'\n",
      "gvz.node_attr['shape']='circle'\n",
      "gvz.node_attr['fixedsize']='true'\n",
      "gvz.node_attr['fillcolor']='blue'\n",
      "gvz.node_attr['width']='0.3'\n",
      "gvz.node_attr['label']=\" \"\n",
      "gvz.layout()\n",
      "gvz.draw(file)\n",
      "Image(file)"
     ],
     "language": "python",
     "metadata": {},
     "outputs": [
      {
       "metadata": {},
       "output_type": "pyout",
       "png": "[encoded data removed]",
       "prompt_number": 24,
       "text": [
        "<IPython.core.display.Image at 0x7f7d2a218d90>"
       ]
      }
     ],
     "prompt_number": 24
    },
    {
     "cell_type": "markdown",
     "metadata": {},
     "source": [
      "4 - Read the real graphs from the data files.\n",
      "\n",
      "Resources:\n",
      "    http://networkx.lanl.gov/reference/generated/networkx.readwrite.edgelist.read_edgelist.html\n",
      "    \n",
      "Sample code:"
     ]
    },
    {
     "cell_type": "code",
     "collapsed": false,
     "input": [
      "file=\"day7/data/graph.edges\"\n",
      "graph = read_edgelist(file)\n",
      "print \"Nodes: \", graph.nodes()\n",
      "print \"Edges: \", graph.edges()"
     ],
     "language": "python",
     "metadata": {},
     "outputs": [
      {
       "output_type": "stream",
       "stream": "stdout",
       "text": [
        "Nodes:  [u'1', u'3', u'2', u'4']\n",
        "Edges:  [(u'1', u'2'), (u'1', u'4'), (u'3', u'2'), (u'3', u'4')]\n"
       ]
      }
     ],
     "prompt_number": 25
    },
    {
     "cell_type": "markdown",
     "metadata": {},
     "source": [
      "5 - Compute following for each of the networks: a) Degree distribution b) Average clustering coefficient c) Diameter d) Betweeness-centrality distribution."
     ]
    },
    {
     "cell_type": "raw",
     "metadata": {},
     "source": [
      "6 - Apply the three network models to try to produce networks that look like each one of the real datasets. Compare the results in terms of the metrics (degree distribution, average clustering coefficient etc. Compare the results.\n"
     ]
    },
    {
     "cell_type": "raw",
     "metadata": {},
     "source": [
      "7 - Generate visualizations for the real networks."
     ]
    }
   ],
   "metadata": {}
  }
 ]
}