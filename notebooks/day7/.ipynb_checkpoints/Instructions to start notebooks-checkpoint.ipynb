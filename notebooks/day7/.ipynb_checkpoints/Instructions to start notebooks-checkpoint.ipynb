{
 "metadata": {
  "name": "",
  "signature": "sha256:2ef9fee7c721869ba972249b235ccbb60b9b3735d5a20ab992cf8b664fa4c372"
 },
 "nbformat": 3,
 "nbformat_minor": 0,
 "worksheets": [
  {
   "cells": [
    {
     "cell_type": "markdown",
     "metadata": {},
     "source": [
      "First do:\n",
      "\n",
      "    ssh -Y YOURUSERNAME@mcl-ID.cs.ucsb.edu\n",
      "\n",
      "where ID is the id of your esbtl machine\n",
      "\n",
      "Then:\n",
      "\n",
      "    cd IGERTBootcamp\n",
      "    git pull origin master\n",
      "    source scripts/set_path.sh\n",
      "    cd notebooks\n",
      "    ipython notebook\n"
     ]
    },
    {
     "cell_type": "code",
     "collapsed": false,
     "input": [],
     "language": "python",
     "metadata": {},
     "outputs": []
    }
   ],
   "metadata": {}
  }
 ]
}